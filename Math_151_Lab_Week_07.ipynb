{
 "cells": [
  {
   "cell_type": "markdown",
   "metadata": {},
   "source": [
    "## Math 151 Lab - Assignment 5##"
   ]
  },
  {
   "cell_type": "markdown",
   "metadata": {},
   "source": [
    "## Section 531, 532, 533 ##"
   ]
  },
  {
   "cell_type": "markdown",
   "metadata": {},
   "source": [
    "### Jingya Yan ###\n",
    "### jingya.yan@math.tamu.edu ###"
   ]
  },
  {
   "cell_type": "markdown",
   "metadata": {},
   "source": [
    "### 1. Assignment Instructions ###"
   ]
  },
  {
   "cell_type": "markdown",
   "metadata": {},
   "source": [
    "http://calclab.math.tamu.edu/Python/LabSched151.html\n",
    "\n",
    "Make sure you are using the template given in the link.\n",
    "\n",
    "(open the course schedule page and right click on the template link and select \"save as\")\n",
    "\n",
    "Make sure you are using Python 3, the codes may not perform as expected in Python 2.\n",
    "\n",
    "Each team turns in one printed file at next week's lab.\n",
    "\n",
    "If your team size drops below 3, I will try combine your team with others (Team size must be less or equal to 4)\n",
    "#### Assignment will be due on Oct 14. ####"
   ]
  },
  {
   "cell_type": "markdown",
   "metadata": {},
   "source": [
    "### 2. Some Useful Commands ###"
   ]
  },
  {
   "cell_type": "code",
   "execution_count": 1,
   "metadata": {
    "collapsed": true
   },
   "outputs": [],
   "source": [
    "from sympy import *\n",
    "from sympy.plotting import (plot, plot_parametric,plot3d_parametric_surface, plot3d_parametric_line,plot3d)"
   ]
  },
  {
   "cell_type": "markdown",
   "metadata": {},
   "source": [
    "#### Define a Function ####\n",
    "\n",
    "https://docs.sympy.org/latest/tutorial/intro.html#a-more-interesting-example"
   ]
  },
  {
   "cell_type": "code",
   "execution_count": 2,
   "metadata": {
    "collapsed": false
   },
   "outputs": [
    {
     "name": "stdout",
     "output_type": "stream",
     "text": [
      "f= exp(x)/log(x)\n"
     ]
    }
   ],
   "source": [
    "x = symbols('x')    # Define a symbol as variable or you'll receive error while running\n",
    "f = exp(x)/ln(x)    # Define any function you want with x as variable\n",
    "print(\"f=\",f)"
   ]
  },
  {
   "cell_type": "markdown",
   "metadata": {},
   "source": [
    "#### Substitution ####\n",
    "\n",
    "https://docs.sympy.org/latest/tutorial/basic_operations.html#substitution"
   ]
  },
  {
   "cell_type": "code",
   "execution_count": 3,
   "metadata": {
    "collapsed": false
   },
   "outputs": [
    {
     "name": "stdout",
     "output_type": "stream",
     "text": [
      "8\n"
     ]
    }
   ],
   "source": [
    "x = symbols('x')    # Define variable\n",
    "f = x ** 3           # Define a function of x\n",
    "f_2 = f.subs(x,2)   # Find the value of f when x=2\n",
    "print(f_2)"
   ]
  },
  {
   "cell_type": "code",
   "execution_count": 4,
   "metadata": {
    "collapsed": false
   },
   "outputs": [
    {
     "name": "stdout",
     "output_type": "stream",
     "text": [
      "y**3\n"
     ]
    }
   ],
   "source": [
    "y = symbols('y')\n",
    "f_y = f.subs(x,y)   # Substitude x by y\n",
    "print(f_y)"
   ]
  },
  {
   "cell_type": "code",
   "execution_count": 5,
   "metadata": {
    "collapsed": false
   },
   "outputs": [
    {
     "data": {
      "text/plain": [
       "28"
      ]
     },
     "execution_count": 5,
     "metadata": {},
     "output_type": "execute_result"
    }
   ],
   "source": [
    "g = x**2 + y** 3\n",
    "z = g.subs([(x,1),(y,3)])  # Find the value of g when x=1, y=3\n",
    "z"
   ]
  },
  {
   "cell_type": "markdown",
   "metadata": {},
   "source": [
    "#### Plot and Plot_parametric ####\n",
    "\n",
    "https://docs.sympy.org/latest/modules/plotting.html#plotting-function-reference\n",
    "\n",
    "https://docs.sympy.org/0.7.5/modules/mpmath/plotting.html\n",
    "\n",
    "https://docs.sympy.org/latest/modules/plotting.html#sympy.plotting.plot.Plot.extend"
   ]
  },
  {
   "cell_type": "code",
   "execution_count": 6,
   "metadata": {
    "collapsed": false
   },
   "outputs": [
    {
     "data": {
      "image/png": "[encoded data removed]",
      "text/plain": [
       "<matplotlib.figure.Figure at 0x109f6ae10>"
      ]
     },
     "metadata": {},
     "output_type": "display_data"
    }
   ],
   "source": [
    "x = symbols('x')\n",
    "f = x ** 3      \n",
    "graph = plot_parametric(x,f,(x,-3,3),ylim=[-8,8])   \n",
    "# plotting a graph that x on horizontal, f on vertical, -3<x<3 and y-axis shows the value from -8 to 8"
   ]
  },
  {
   "cell_type": "code",
   "execution_count": 7,
   "metadata": {
    "collapsed": false,
    "scrolled": true
   },
   "outputs": [
    {
     "data": {
      "image/png": "[encoded data removed]",
      "text/plain": [
       "<matplotlib.figure.Figure at 0x11393b4a8>"
      ]
     },
     "metadata": {},
     "output_type": "display_data"
    }
   ],
   "source": [
    "f2 = exp(x)\n",
    "graph2 = plot_parametric(x,f2,(x,-4,4),ylim=[-8,8],show=false)     # Define another graph, but not showing immediately\n",
    "graph.extend(graph2)    # Show graph2 and graph in the same picture, now graph contains two lines\n",
    "graph.show()            # Command for showing graph"
   ]
  },
  {
   "cell_type": "code",
   "execution_count": 8,
   "metadata": {
    "collapsed": false
   },
   "outputs": [
    {
     "data": {
      "image/png": "[encoded data removed]",
      "text/plain": [
       "<matplotlib.figure.Figure at 0x10a045588>"
      ]
     },
     "metadata": {},
     "output_type": "display_data"
    }
   ],
   "source": [
    "f = x\n",
    "g = x **2 \n",
    "h = x **3\n",
    "graph = plot((f,(x,-3,3)),(g,(x,-3,3)),(h,(x,-3,3)),(3,(x,-3,3)), ylim=[-10,10])  \n",
    "# plot several functions in same graph "
   ]
  },
  {
   "cell_type": "markdown",
   "metadata": {},
   "source": [
    "#### Solve a Function"
   ]
  },
  {
   "cell_type": "markdown",
   "metadata": {},
   "source": [
    "https://urldefense.proofpoint.com/v2/url?u=https-3A__www.scipy-2Dlectures.org_advanced_sympy.html-23equation-2Dsolving&d=DwMFaQ&c=u6LDEWzohnDQ01ySGnxMzg&r=0S5Vp3YJyAl2qMyYOYqVE-tUOvBz75Wirkf-T3iD8UU&m=Sn1qufafjrrMZlobHkjlzHZVH-H4ACHov6DUFQqKles&s=gp9SMKC6yC0FcXljMzt7Zb4AhhoW30idadCAp4PKldY&e="
   ]
  },
  {
   "cell_type": "code",
   "execution_count": 9,
   "metadata": {
    "collapsed": false
   },
   "outputs": [
    {
     "name": "stdout",
     "output_type": "stream",
     "text": [
      "The solution of f(x)=0 is  [-2, -1]\n"
     ]
    }
   ],
   "source": [
    "x = symbols('x')\n",
    "f = x ** 2 + 3*x +2\n",
    "x_soln = solve (f,x)    # solve f=0 with respect to x\n",
    "print(\"The solution of f(x)=0 is \", x_soln)   "
   ]
  },
  {
   "cell_type": "code",
   "execution_count": 10,
   "metadata": {
    "collapsed": false
   },
   "outputs": [
    {
     "name": "stdout",
     "output_type": "stream",
     "text": [
      "The solution of f(x)=a is  a**(1/3) , -a**(1/3)/2 - sqrt(3)*I*a**(1/3)/2 , -a**(1/3)/2 + sqrt(3)*I*a**(1/3)/2\n"
     ]
    }
   ],
   "source": [
    "x , a = symbols('x , a')\n",
    "f = x ** 3 \n",
    "x0 = solve(f-a, x)    # solve f-a=0 with respect to x\n",
    "print(\"The solution of f(x)=a is \", x0[0], \",\", x0[1] , \",\", x0[2])"
   ]
  },
  {
   "cell_type": "markdown",
   "metadata": {},
   "source": [
    "#### Solve system of equations ####"
   ]
  },
  {
   "cell_type": "code",
   "execution_count": 11,
   "metadata": {
    "collapsed": false
   },
   "outputs": [
    {
     "data": {
      "text/plain": [
       "[(-1, 1), (1, -1)]"
      ]
     },
     "execution_count": 11,
     "metadata": {},
     "output_type": "execute_result"
    }
   ],
   "source": [
    "x,y = symbols('x,y')\n",
    "f = x**2 + y**2\n",
    "g = x + y\n",
    "soln = solve([f-2, g],x,y)    # Solve for f=2, g=0 with respect to x, y\n",
    "soln"
   ]
  },
  {
   "cell_type": "markdown",
   "metadata": {},
   "source": [
    "#### Construct a Loop ####\n",
    "\n",
    "https://docs.python.org/3/tutorial/datastructures.html#list-comprehensions"
   ]
  },
  {
   "cell_type": "code",
   "execution_count": 12,
   "metadata": {
    "collapsed": false
   },
   "outputs": [
    {
     "name": "stdout",
     "output_type": "stream",
     "text": [
      "Matrix([[0], [1], [2]])\n"
     ]
    }
   ],
   "source": [
    "y = Matrix([0,0,0])\n",
    "i=0\n",
    "for i in range(len(y)):\n",
    "    y[i] = i                    # This loop replace every element of y by 1,2,3\n",
    "print(y)\n"
   ]
  },
  {
   "cell_type": "markdown",
   "metadata": {},
   "source": [
    "#### Limits ####\n",
    "\n",
    "https://docs.sympy.org/latest/tutorial/calculus.html#limits\n"
   ]
  },
  {
   "cell_type": "code",
   "execution_count": 13,
   "metadata": {
    "collapsed": false
   },
   "outputs": [
    {
     "name": "stdout",
     "output_type": "stream",
     "text": [
      "The limit of f(x) near 2 is  4\n"
     ]
    }
   ],
   "source": [
    "x = symbols('x')\n",
    "f = (x ** 2 -4)/(x-2)\n",
    "x_2 = limit(f,x,2)        # Find the limits of f when x is approaching 2\n",
    "print(\"The limit of f(x) near 2 is \", x_2)"
   ]
  },
  {
   "cell_type": "markdown",
   "metadata": {
    "collapsed": true
   },
   "source": [
    "#### Differentiation ####\n",
    "\n",
    "https://docs.sympy.org/latest/tutorial/calculus.html#derivatives"
   ]
  },
  {
   "cell_type": "code",
   "execution_count": 14,
   "metadata": {
    "collapsed": false
   },
   "outputs": [
    {
     "data": {
      "text/plain": [
       "4*x*exp(2*x**2)"
      ]
     },
     "execution_count": 14,
     "metadata": {},
     "output_type": "execute_result"
    }
   ],
   "source": [
    "x = symbols('x')\n",
    "f = exp(2*x**2)\n",
    "diff_f = diff(f,x)      ## Find the derivative of f with respect to x\n",
    "diff_f"
   ]
  },
  {
   "cell_type": "code",
   "execution_count": 16,
   "metadata": {
    "collapsed": false
   },
   "outputs": [
    {
     "name": "stdout",
     "output_type": "stream",
     "text": [
      "Derivative of g with respect to x is  2*x*exp(x**2 + y**2 + z**2)\n",
      "Derivative of g with respect to y is  2*y*exp(x**2 + y**2 + z**2)\n",
      "Derivative of g with respect to x then with y is  4*x*y*exp(x**2 + y**2 + z**2)\n",
      "Derivative of g with respect to x then with y then with z is  8*x*y*z*exp(x**2 + y**2 + z**2)\n"
     ]
    }
   ],
   "source": [
    "y = symbols('y')\n",
    "z = symbols('z')\n",
    "g = exp(x**2+y**2+z**2)\n",
    "diff_gx = diff(g,x)      ## Find the derivative of f with respect to x\n",
    "diff_gy = diff(g,y)      ## Find the derivative of f with respect to x\n",
    "diff_gxy = diff(g,x,y)   ## Find the derivative of f with respect to x then with y\n",
    "diff_gxyz = diff(g,x,y,z)   ## Find the derivative of f with respect to x then with y\n",
    "print(\"Derivative of g with respect to x is \", diff_gx)\n",
    "print(\"Derivative of g with respect to y is \", diff_gy)\n",
    "print(\"Derivative of g with respect to x then with y is \", diff_gxy)\n",
    "print(\"Derivative of g with respect to x then with y then with z is \", diff_gxyz)"
   ]
  },
  {
   "cell_type": "code",
   "execution_count": 17,
   "metadata": {
    "collapsed": false
   },
   "outputs": [
    {
     "name": "stdout",
     "output_type": "stream",
     "text": [
      "Derivative of h is  4*x**3 + 9*x**2 + 8*x + 1\n",
      "Second derivative of h is  2*(6*x**2 + 9*x + 4)\n",
      "Fourth derivative of h is  24\n"
     ]
    }
   ],
   "source": [
    "h = x**4 + 3*x**3 + 4*x**2 + x + 2\n",
    "diff_h1 = diff(h,x)     # Find the derivative of h\n",
    "diff_h2 = diff(h,x,2)   # Find the 2nd derivative of h\n",
    "diff_h4 = diff(h,x,4)   # Find the 4th derivative of h\n",
    "print(\"Derivative of h is \", diff_h1)\n",
    "print(\"Second derivative of h is \", diff_h2)\n",
    "print(\"Fourth derivative of h is \", diff_h4)"
   ]
  },
  {
   "cell_type": "markdown",
   "metadata": {},
   "source": [
    "#### Plotting of Implicit Function ####\n",
    "\n",
    "https://docs.sympy.org/latest/modules/plotting.html#sympy.plotting.plot_implicit.plot_implicit"
   ]
  },
  {
   "cell_type": "code",
   "execution_count": 18,
   "metadata": {
    "collapsed": false
   },
   "outputs": [
    {
     "data": {
      "image/png": "[encoded data removed]",
      "text/plain": [
       "<matplotlib.figure.Figure at 0x113bb12b0>"
      ]
     },
     "metadata": {},
     "output_type": "display_data"
    },
    {
     "data": {
      "text/plain": [
       "<sympy.plotting.plot.Plot at 0x113bb1f60>"
      ]
     },
     "execution_count": 18,
     "metadata": {},
     "output_type": "execute_result"
    }
   ],
   "source": [
    "x , y = symbols('x,y')\n",
    "plot_implicit(Eq(x**2 + y**2, 5),(x, -4, 4), (y, -3, 3)) \n",
    "# Plot the equation x**2+y**2=5 with x in [-4,4] and y in [-3,-3]"
   ]
  },
  {
   "cell_type": "markdown",
   "metadata": {},
   "source": [
    "#### Differentiation of Implicit Function####\n",
    "\n",
    "https://docs.sympy.org/latest/_modules/sympy/geometry/util.html"
   ]
  },
  {
   "cell_type": "code",
   "execution_count": 21,
   "metadata": {
    "collapsed": false
   },
   "outputs": [
    {
     "data": {
      "text/plain": [
       "-x/y"
      ]
     },
     "execution_count": 21,
     "metadata": {},
     "output_type": "execute_result"
    }
   ],
   "source": [
    "dydx = idiff(x**2 + y**2 - 5, y , x) # dy/dx of the equation x**2 + y**2 - 5 = 0\n",
    "dydx"
   ]
  },
  {
   "cell_type": "markdown",
   "metadata": {},
   "source": [
    "#### Expanding Logarithm Function ####\n",
    "\n",
    "https://urldefense.proofpoint.com/v2/url?u=https-3A__docs.sympy.org_latest_tutorial_simplification.html-23expand-2Dlog&d=DwMFaQ&c=u6LDEWzohnDQ01ySGnxMzg&r=0S5Vp3YJyAl2qMyYOYqVE-tUOvBz75Wirkf-T3iD8UU&m=TTeJuX1VhFlW0BQsCLvlpJtTCVY54FfUIVGlh6zMuEI&s=ummqZhd3eNWfWt_2bazbHTkHYKY5oTggX2gfWa3kRzI&e="
   ]
  },
  {
   "cell_type": "code",
   "execution_count": 22,
   "metadata": {
    "collapsed": false
   },
   "outputs": [
    {
     "data": {
      "text/plain": [
       "log(x) + log(y)"
      ]
     },
     "execution_count": 22,
     "metadata": {},
     "output_type": "execute_result"
    }
   ],
   "source": [
    "x,y = symbols('x,y')\n",
    "expand_log(log(x*y), force = True)"
   ]
  }
 ],
 "metadata": {
  "kernelspec": {
   "display_name": "Python 3",
   "language": "python",
   "name": "python3"
  },
  "language_info": {
   "codemirror_mode": {
    "name": "ipython",
    "version": 3
   },
   "file_extension": ".py",
   "mimetype": "text/x-python",
   "name": "python",
   "nbconvert_exporter": "python",
   "pygments_lexer": "ipython3",
   "version": "3.6.0"
  }
 },
 "nbformat": 4,
 "nbformat_minor": 2
}
