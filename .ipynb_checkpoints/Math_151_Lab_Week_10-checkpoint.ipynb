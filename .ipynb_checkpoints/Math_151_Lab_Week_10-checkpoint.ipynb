{
 "cells": [
  {
   "cell_type": "markdown",
   "metadata": {},
   "source": [
    "## Math 151 Lab - Assignment 8##"
   ]
  },
  {
   "cell_type": "markdown",
   "metadata": {},
   "source": [
    "## Section 531, 532, 533 ##"
   ]
  },
  {
   "cell_type": "markdown",
   "metadata": {},
   "source": [
    "### Jingya Yan ###\n",
    "### jingya.yan@math.tamu.edu ###"
   ]
  },
  {
   "cell_type": "markdown",
   "metadata": {},
   "source": [
    "### 1. Assignment Instructions ###"
   ]
  },
  {
   "cell_type": "markdown",
   "metadata": {},
   "source": [
    "http://calclab.math.tamu.edu/Python/LabSched151.html\n",
    "\n",
    "Make sure you are using the template given in the link.\n",
    "\n",
    "(open the course schedule page and right click on the template link and select \"save as\")\n",
    "\n",
    "Make sure you are using Python 3, the codes may not perform as expected in Python 2.\n",
    "\n",
    "Each team turns in one printed file at next week's lab.\n",
    "\n",
    "If your team size drops below 3, I will try combine your team with others (Team size must be less or equal to 4)\n",
    "#### Assignment will be due on Nov 11. ####"
   ]
  },
  {
   "cell_type": "markdown",
   "metadata": {},
   "source": [
    "### 2. Some Useful Commands ###"
   ]
  },
  {
   "cell_type": "code",
   "execution_count": 1,
   "metadata": {
    "collapsed": true
   },
   "outputs": [],
   "source": [
    "from sympy import *\n",
    "from sympy.plotting import (plot, plot_parametric,plot3d_parametric_surface, plot3d_parametric_line,plot3d)"
   ]
  },
  {
   "cell_type": "markdown",
   "metadata": {},
   "source": [
    "#### Define Symbols and Functions ####\n",
    "\n",
    "https://docs.sympy.org/latest/tutorial/intro.html#a-more-interesting-example"
   ]
  },
  {
   "cell_type": "code",
   "execution_count": 3,
   "metadata": {
    "collapsed": false
   },
   "outputs": [
    {
     "name": "stdout",
     "output_type": "stream",
     "text": [
      "f= exp(x)/log(x)\n"
     ]
    }
   ],
   "source": [
    "x = symbols('x')    # Define a symbol as variable or you'll receive error while running\n",
    "y = symbols('y', real = True) # If you want to avoid a complex solution, you can define a real symbol at the beginning\n",
    "z = symbols('z', positive = True) # Define a positive value symbol\n",
    "f = exp(x)/ln(x)    # Define any function you want with x as variable\n",
    "print(\"f=\",f)"
   ]
  },
  {
   "cell_type": "markdown",
   "metadata": {},
   "source": [
    "#### Substitution ####\n",
    "\n",
    "https://docs.sympy.org/latest/tutorial/basic_operations.html#substitution"
   ]
  },
  {
   "cell_type": "code",
   "execution_count": 3,
   "metadata": {
    "collapsed": false
   },
   "outputs": [
    {
     "name": "stdout",
     "output_type": "stream",
     "text": [
      "8\n"
     ]
    }
   ],
   "source": [
    "x = symbols('x')    # Define variable\n",
    "f = x ** 3           # Define a function of x\n",
    "f_2 = f.subs(x,2)   # Find the value of f when x=2\n",
    "print(f_2)"
   ]
  },
  {
   "cell_type": "code",
   "execution_count": 4,
   "metadata": {
    "collapsed": false
   },
   "outputs": [
    {
     "name": "stdout",
     "output_type": "stream",
     "text": [
      "y**3\n"
     ]
    }
   ],
   "source": [
    "y = symbols('y')\n",
    "f_y = f.subs(x,y)   # Substitude x by y\n",
    "print(f_y)"
   ]
  },
  {
   "cell_type": "code",
   "execution_count": 5,
   "metadata": {
    "collapsed": false
   },
   "outputs": [
    {
     "data": {
      "text/plain": [
       "28"
      ]
     },
     "execution_count": 5,
     "metadata": {},
     "output_type": "execute_result"
    }
   ],
   "source": [
    "g = x**2 + y** 3\n",
    "z = g.subs([(x,1),(y,3)])  # Find the value of g when x=1, y=3\n",
    "z"
   ]
  },
  {
   "cell_type": "markdown",
   "metadata": {},
   "source": [
    "#### Plot and Plot_parametric ####\n",
    "\n",
    "https://docs.sympy.org/latest/modules/plotting.html#plotting-function-reference\n",
    "\n",
    "https://docs.sympy.org/0.7.5/modules/mpmath/plotting.html\n",
    "\n",
    "https://docs.sympy.org/latest/modules/plotting.html#sympy.plotting.plot.Plot.extend"
   ]
  },
  {
   "cell_type": "code",
   "execution_count": 6,
   "metadata": {
    "collapsed": false
   },
   "outputs": [
    {
     "data": {
      "image/png": "[encoded data removed]",
      "text/plain": [
       "<matplotlib.figure.Figure at 0x109f1c3c8>"
      ]
     },
     "metadata": {},
     "output_type": "display_data"
    }
   ],
   "source": [
    "x = symbols('x')\n",
    "f = x ** 3      \n",
    "graph = plot_parametric(x,f,(x,-3,3),ylim=[-8,8])   \n",
    "# plotting a graph that x on horizontal, f on vertical, -3<x<3 and y-axis shows the value from -8 to 8"
   ]
  },
  {
   "cell_type": "code",
   "execution_count": 7,
   "metadata": {
    "collapsed": false,
    "scrolled": true
   },
   "outputs": [
    {
     "data": {
      "image/png": "[encoded data removed]",
      "text/plain": [
       "<matplotlib.figure.Figure at 0x1106b1278>"
      ]
     },
     "metadata": {},
     "output_type": "display_data"
    }
   ],
   "source": [
    "f2 = exp(x)\n",
    "graph2 = plot_parametric(x,f2,(x,-4,4),ylim=[-8,8],show=false)     # Define another graph, but not showing immediately\n",
    "graph.extend(graph2)    # Show graph2 and graph in the same picture, now graph contains two lines\n",
    "graph.show()            # Command for showing graph"
   ]
  },
  {
   "cell_type": "code",
   "execution_count": 8,
   "metadata": {
    "collapsed": false
   },
   "outputs": [
    {
     "data": {
      "image/png": "[encoded data removed]",
      "text/plain": [
       "<matplotlib.figure.Figure at 0x110921e10>"
      ]
     },
     "metadata": {},
     "output_type": "display_data"
    }
   ],
   "source": [
    "# plot several functions in same graph \n",
    "f = x\n",
    "g = x **2 \n",
    "h = x **3\n",
    "graph = plot((f,(x,-3,3)),(g,(x,-3,3)),(h,(x,-3,3)),(3,(x,-3,3)), ylim=[-10,10])  \n"
   ]
  },
  {
   "cell_type": "code",
   "execution_count": 9,
   "metadata": {
    "collapsed": false
   },
   "outputs": [
    {
     "data": {
      "image/png": "[encoded data removed]",
      "text/plain": [
       "<matplotlib.figure.Figure at 0x1107763c8>"
      ]
     },
     "metadata": {},
     "output_type": "display_data"
    },
    {
     "data": {
      "text/plain": [
       "<sympy.plotting.plot.Plot at 0x1106bafd0>"
      ]
     },
     "execution_count": 9,
     "metadata": {},
     "output_type": "execute_result"
    }
   ],
   "source": [
    "# plot parametric functions\n",
    "t = symbols('t')\n",
    "x = t**3\n",
    "y = t**2\n",
    "plot_parametric(x,y,(t,-2,2),xlim = [-10,10], ylim=[-1,5])"
   ]
  },
  {
   "cell_type": "markdown",
   "metadata": {},
   "source": [
    "#### Solve a Function"
   ]
  },
  {
   "cell_type": "markdown",
   "metadata": {},
   "source": [
    "https://urldefense.proofpoint.com/v2/url?u=https-3A__www.scipy-2Dlectures.org_advanced_sympy.html-23equation-2Dsolving&d=DwMFaQ&c=u6LDEWzohnDQ01ySGnxMzg&r=0S5Vp3YJyAl2qMyYOYqVE-tUOvBz75Wirkf-T3iD8UU&m=Sn1qufafjrrMZlobHkjlzHZVH-H4ACHov6DUFQqKles&s=gp9SMKC6yC0FcXljMzt7Zb4AhhoW30idadCAp4PKldY&e="
   ]
  },
  {
   "cell_type": "code",
   "execution_count": 10,
   "metadata": {
    "collapsed": false
   },
   "outputs": [
    {
     "name": "stdout",
     "output_type": "stream",
     "text": [
      "The solution of f(x)=0 is  [-2, -1]\n"
     ]
    }
   ],
   "source": [
    "x = symbols('x')\n",
    "f = x ** 2 + 3*x +2\n",
    "x_soln = solve (f,x)    # solve f=0 with respect to x\n",
    "print(\"The solution of f(x)=0 is \", x_soln)   "
   ]
  },
  {
   "cell_type": "code",
   "execution_count": 11,
   "metadata": {
    "collapsed": false
   },
   "outputs": [
    {
     "name": "stdout",
     "output_type": "stream",
     "text": [
      "The solution of f(x)=a is  a**(1/3) , -a**(1/3)/2 - sqrt(3)*I*a**(1/3)/2 , -a**(1/3)/2 + sqrt(3)*I*a**(1/3)/2\n"
     ]
    }
   ],
   "source": [
    "x , a = symbols('x , a')\n",
    "f = x ** 3 \n",
    "x0 = solve(f-a, x)    # solve f-a=0 with respect to x\n",
    "print(\"The solution of f(x)=a is \", x0[0], \",\", x0[1] , \",\", x0[2])"
   ]
  },
  {
   "cell_type": "markdown",
   "metadata": {
    "collapsed": true
   },
   "source": [
    "#### Differentiation ####\n",
    "\n",
    "https://docs.sympy.org/latest/tutorial/calculus.html#derivatives"
   ]
  },
  {
   "cell_type": "code",
   "execution_count": 14,
   "metadata": {
    "collapsed": false
   },
   "outputs": [
    {
     "data": {
      "text/plain": [
       "4*x*exp(2*x**2)"
      ]
     },
     "execution_count": 14,
     "metadata": {},
     "output_type": "execute_result"
    }
   ],
   "source": [
    "x = symbols('x')\n",
    "f = exp(2*x**2)\n",
    "diff_f = diff(f,x)      ## Find the derivative of f with respect to x\n",
    "diff_f"
   ]
  },
  {
   "cell_type": "code",
   "execution_count": 15,
   "metadata": {
    "collapsed": false
   },
   "outputs": [
    {
     "name": "stdout",
     "output_type": "stream",
     "text": [
      "Derivative of g with respect to x is  2*x*exp(x**2 + y**2 + z**2)\n",
      "Derivative of g with respect to y is  2*y*exp(x**2 + y**2 + z**2)\n",
      "Derivative of g with respect to x then with y is  4*x*y*exp(x**2 + y**2 + z**2)\n",
      "Derivative of g with respect to x then with y then with z is  8*x*y*z*exp(x**2 + y**2 + z**2)\n"
     ]
    }
   ],
   "source": [
    "y = symbols('y')\n",
    "z = symbols('z')\n",
    "g = exp(x**2+y**2+z**2)\n",
    "diff_gx = diff(g,x)      ## Find the derivative of f with respect to x\n",
    "diff_gy = diff(g,y)      ## Find the derivative of f with respect to x\n",
    "diff_gxy = diff(g,x,y)   ## Find the derivative of f with respect to x then with y\n",
    "diff_gxyz = diff(g,x,y,z)   ## Find the derivative of f with respect to x then with y\n",
    "print(\"Derivative of g with respect to x is \", diff_gx)\n",
    "print(\"Derivative of g with respect to y is \", diff_gy)\n",
    "print(\"Derivative of g with respect to x then with y is \", diff_gxy)\n",
    "print(\"Derivative of g with respect to x then with y then with z is \", diff_gxyz)"
   ]
  },
  {
   "cell_type": "code",
   "execution_count": 19,
   "metadata": {
    "collapsed": false
   },
   "outputs": [
    {
     "name": "stdout",
     "output_type": "stream",
     "text": [
      "Derivative of h is  4*x**3 + 9*x**2 + 8*x + 1\n",
      "Second derivative of h is  2*(6*x**2 + 9*x + 4)\n",
      "Fourth derivative of h is  24\n"
     ]
    }
   ],
   "source": [
    "h = x**4 + 3*x**3 + 4*x**2 + x + 2\n",
    "diff_h1 = diff(h,x)     # Find the derivative of h\n",
    "diff_h2 = diff(h,x,2)   # Find the 2nd derivative of h\n",
    "diff_h4 = diff(h,x,4)   # Find the 4th derivative of h\n",
    "print(\"Derivative of h is \", diff_h1)\n",
    "print(\"Second derivative of h is \", diff_h2)\n",
    "print(\"Fourth derivative of h is \", diff_h4)"
   ]
  },
  {
   "cell_type": "markdown",
   "metadata": {},
   "source": [
    "#### Limits####\n",
    "\n",
    "https://docs.sympy.org/latest/tutorial/calculus.html#limits"
   ]
  },
  {
   "cell_type": "code",
   "execution_count": 6,
   "metadata": {
    "collapsed": false
   },
   "outputs": [
    {
     "name": "stdout",
     "output_type": "stream",
     "text": [
      "The limit of f(x) near 2 is  4\n"
     ]
    }
   ],
   "source": [
    "x = symbols('x')\n",
    "f = (x ** 2 -4)/(x-2)\n",
    "x_2 = limit(f,x,2)        # Find the limits of f when x is approaching 2\n",
    "print(\"The limit of f(x) near 2 is \", x_2)"
   ]
  },
  {
   "cell_type": "markdown",
   "metadata": {},
   "source": [
    "#### nsolve (you need to use this command in problem 3 part(d) )\n",
    "\n",
    "The \"solve\" command cannot solve functions such as \"sin(x+pi/6) = 0\" with $0\\le x \\le 4\\pi$; \n",
    "\n",
    "However, we can use \"nsolve\" to find roots for sin(x)=0 near some given point $0, \\pi/2, \\pi, 3\\pi/2,...$\n",
    "\n",
    "https://urldefense.proofpoint.com/v2/url?u=https-3A__docs.sympy.org_latest_modules_solvers_solvers.html&d=DwMFaQ&c=u6LDEWzohnDQ01ySGnxMzg&r=0S5Vp3YJyAl2qMyYOYqVE-tUOvBz75Wirkf-T3iD8UU&m=AdF5mTvK4B20_q-ftMEsHz6i4D0FXP_FU1mxjgiFkAI&s=1FT9QsfEtbugA-OIWLRvwFGdt5SjlznDuMqWDyFd5ss&e="
   ]
  },
  {
   "cell_type": "code",
   "execution_count": 32,
   "metadata": {
    "collapsed": false
   },
   "outputs": [
    {
     "data": {
      "image/png": "[encoded data removed]",
      "text/plain": [
       "<matplotlib.figure.Figure at 0x10a0005f8>"
      ]
     },
     "metadata": {},
     "output_type": "display_data"
    },
    {
     "name": "stdout",
     "output_type": "stream",
     "text": [
      "2.61799387799149 5.75958653158129 8.90117918517108 12.0427718387609\n"
     ]
    }
   ],
   "source": [
    "x = symbols('x')\n",
    "f = sin(x+pi/6)\n",
    "c1 = nsolve(f,x,3)    # find solution of f=0 near x=3\n",
    "c2 = nsolve(f,x,6)    # find solution of f=0 near x=6\n",
    "c3 = nsolve(f,x,9)    # find solution of f=0 near x=9\n",
    "c4 = nsolve(f,x,12)   # find solution of f=0 near x=12\n",
    "plot(f,(x,0,4*pi))\n",
    "print(c1,c2,c3,c4)    # The approaximated value of roots are shown"
   ]
  },
  {
   "cell_type": "markdown",
   "metadata": {
    "collapsed": true
   },
   "source": [
    "#### float ####\n",
    "\n",
    "https://docs.sympy.org/latest/gotchas.html#evaluating-expressions-with-floats-and-rationals\n",
    "\n",
    "This command can help simplify numbers of the \"RootOf\" form, you will need this in problem 2 and 3 of assignment 9"
   ]
  },
  {
   "cell_type": "code",
   "execution_count": 6,
   "metadata": {
    "collapsed": false
   },
   "outputs": [
    {
     "data": {
      "image/png": "[encoded data removed]",
      "text/plain": [
       "<matplotlib.figure.Figure at 0x114bff940>"
      ]
     },
     "metadata": {},
     "output_type": "display_data"
    },
    {
     "name": "stdout",
     "output_type": "stream",
     "text": [
      "-20.144763295835475 -0.32198325360163776 2.4667465494371137\n"
     ]
    }
   ],
   "source": [
    "x = symbols('x', real=True)\n",
    "c0 = float(RootOf(2*x**3 + 36*x**2 - 88*x - 32, 0)) # approximate 1st solution of 2*x**3 + 36*x**2 - 88*x - 32=0\n",
    "c1 = float(RootOf(2*x**3 + 36*x**2 - 88*x - 32, 1)) # approximate 2nd solution \n",
    "c2 = float(RootOf(2*x**3 + 36*x**2 - 88*x - 32, 2)) # approximate 3rd solution \n",
    "plot(2*x**3 + 36*x**2 - 88*x - 32,(x,-25,4))        # root of polynomial agrees with graph\n",
    "print(c0,c1,c2)"
   ]
  }
 ],
 "metadata": {
  "kernelspec": {
   "display_name": "Python 3",
   "language": "python",
   "name": "python3"
  },
  "language_info": {
   "codemirror_mode": {
    "name": "ipython",
    "version": 3
   },
   "file_extension": ".py",
   "mimetype": "text/x-python",
   "name": "python",
   "nbconvert_exporter": "python",
   "pygments_lexer": "ipython3",
   "version": "3.6.0"
  }
 },
 "nbformat": 4,
 "nbformat_minor": 2
}
