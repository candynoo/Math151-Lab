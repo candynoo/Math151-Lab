{
 "cells": [
  {
   "cell_type": "code",
   "execution_count": 1,
   "metadata": {
    "collapsed": true
   },
   "outputs": [],
   "source": [
    "from sympy import *\n",
    "from sympy.plotting import (plot, plot_parametric,plot3d_parametric_surface, plot3d_parametric_line,plot3d)"
   ]
  },
  {
   "cell_type": "code",
   "execution_count": 2,
   "metadata": {
    "collapsed": false
   },
   "outputs": [
    {
     "name": "stdout",
     "output_type": "stream",
     "text": [
      "Problem 1\n",
      "Part(a)\n",
      "Part(b)\n",
      "0 0\n",
      "Part(c)\n",
      "limit of ln(y) is 2 so y is exp(2)\n",
      "Part(d)\n",
      "limit of y is  exp(2) result is same as using L'Hospital's Rule\n"
     ]
    }
   ],
   "source": [
    "print(\"Problem 1\")\n",
    "print(\"Part(a)\")\n",
    "\n",
    "x = symbols('x')\n",
    "f = ln(1+2/x)\n",
    "g = 1/x\n",
    "\n",
    "print(\"Part(b)\")\n",
    "Lf = limit(f,x,oo)\n",
    "Lg = limit(g,x,oo)\n",
    "print(Lf, Lg)\n",
    "\n",
    "print(\"Part(c)\")\n",
    "df = diff(f,x)\n",
    "dg = diff(g,x)\n",
    "print(\"limit of ln(y) is\",limit(df/dg,x,oo),\"so y is\", exp(limit(df/dg,x,oo)))\n",
    "\n",
    "print(\"Part(d)\")\n",
    "h = (1+2/x)**x\n",
    "print(\"limit of y is \", limit(h,x,oo),\"result is same as using L'Hospital's Rule\")\n"
   ]
  },
  {
   "cell_type": "code",
   "execution_count": 3,
   "metadata": {
    "collapsed": false
   },
   "outputs": [
    {
     "name": "stdout",
     "output_type": "stream",
     "text": [
      "Problem 2\n",
      "Part(a)\n",
      "4.12310562561766*x/sqrt(4.0*x - 17.0)\n",
      "length of y is sqrt(x**2 + 17.0*x**2/(4.0*x - 17.0))\n",
      "Part(b)\n",
      "6.37500000000000\n",
      "Min length of fold is  11.0418238982516\n"
     ]
    }
   ],
   "source": [
    "print(\"Problem 2\")\n",
    "print(\"Part(a)\")\n",
    "x, y, z = symbols('x,y,z', positive = True)\n",
    "# Relationship betweeen x,z\n",
    "f = sqrt(z**2-Rational(17,2)**2) + sqrt(x**2 - (8.5-x)**2) -z\n",
    "# Solve z in terms of x\n",
    "z_x = solve(f,z)[0]\n",
    "print(z_x)\n",
    "g = sqrt(x**2 +z**2)\n",
    "h = g.subs(z,z_x)\n",
    "print(\"length of y is\",h)\n",
    "\n",
    "print(\"Part(b)\")\n",
    "dh = diff(h,x)\n",
    "x_len = solve(dh, x)[0]\n",
    "print(x_len)\n",
    "print(\"Min length of fold is \", h.subs(x,x_len))\n"
   ]
  },
  {
   "cell_type": "code",
   "execution_count": 6,
   "metadata": {
    "collapsed": false
   },
   "outputs": [
    {
     "name": "stdout",
     "output_type": "stream",
     "text": [
      "Problem 3\n",
      "Part(a)\n",
      "Height function is h(t)= -4.9*t**2 + 500\n",
      "Part(b)\n",
      "[-10.1015254455221, 10.1015254455221]\n",
      "Impact Speed is 98.9949493661167\n",
      "Part(c)\n",
      "Velocity function is 9.8*t + v0\n",
      "Height function is -4.9*t**2 - 1.0*t*v0 + 500\n",
      "The time hits ground is -0.102040816326531*v0 + 0.102040816326531*sqrt(v0**2 + 9800.0)\n",
      "Speed hits ground is 1.0*sqrt(v0**2 + 9800.0)\n",
      "minimum initial speed is [-14.1421356237310, 14.1421356237310]\n"
     ]
    }
   ],
   "source": [
    "print(\"Problem 3\")\n",
    "print(\"Part(a)\")\n",
    "g = 9.8\n",
    "t = symbols('t', real = True)\n",
    "v = integrate(g,t)\n",
    "h = integrate(-v,t)+500\n",
    "print(\"Height function is h(t)=\", h)\n",
    "\n",
    "print(\"Part(b)\")\n",
    "T = solve(h,t)\n",
    "print(T)\n",
    "ispeed = v.subs(t,T[1])\n",
    "print(\"Impact Speed is\", ispeed)\n",
    "\n",
    "print(\"Part(c)\")\n",
    "v0 = symbols('v0')\n",
    "v = v0 + integrate(g,t)\n",
    "h = integrate(-v,t) + 500\n",
    "print(\"Velocity function is\", v)\n",
    "print(\"Height function is\", h)\n",
    "T = solve(h,t)[1]\n",
    "print(\"The time hits ground is\",T)\n",
    "v_T = v.subs(t,T)\n",
    "print(\"Speed hits ground is\", v_T)\n",
    "v0_min = solve(v_T-100, v0)\n",
    "print(\"minimum initial speed is\", v0_min)\n",
    "\n"
   ]
  },
  {
   "cell_type": "code",
   "execution_count": null,
   "metadata": {
    "collapsed": true
   },
   "outputs": [],
   "source": []
  }
 ],
 "metadata": {
  "kernelspec": {
   "display_name": "Python 3",
   "language": "python",
   "name": "python3"
  },
  "language_info": {
   "codemirror_mode": {
    "name": "ipython",
    "version": 3
   },
   "file_extension": ".py",
   "mimetype": "text/x-python",
   "name": "python",
   "nbconvert_exporter": "python",
   "pygments_lexer": "ipython3",
   "version": "3.6.0"
  }
 },
 "nbformat": 4,
 "nbformat_minor": 2
}
