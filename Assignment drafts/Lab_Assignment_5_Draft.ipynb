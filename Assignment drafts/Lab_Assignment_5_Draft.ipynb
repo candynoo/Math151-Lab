{
 "cells": [
  {
   "cell_type": "code",
   "execution_count": 1,
   "metadata": {
    "collapsed": true
   },
   "outputs": [],
   "source": [
    "from sympy import *\n",
    "from sympy.plotting import (plot, plot_parametric,plot3d_parametric_surface, plot3d_parametric_line,plot3d)"
   ]
  },
  {
   "cell_type": "markdown",
   "metadata": {},
   "source": [
    "1(a)"
   ]
  },
  {
   "cell_type": "code",
   "execution_count": 2,
   "metadata": {
    "collapsed": false
   },
   "outputs": [],
   "source": [
    "r, x = symbols('r,x')\n",
    "y = exp(r*x)\n",
    "dy = diff(y,x)\n",
    "ddy = diff(dy,x)"
   ]
  },
  {
   "cell_type": "code",
   "execution_count": 3,
   "metadata": {
    "collapsed": false
   },
   "outputs": [
    {
     "data": {
      "text/plain": [
       "[-3, -2]"
      ]
     },
     "execution_count": 3,
     "metadata": {},
     "output_type": "execute_result"
    }
   ],
   "source": [
    "eqn1 = ddy + 5*dy +6*y\n",
    "soln1 = solve(eqn1, r)\n",
    "soln1"
   ]
  },
  {
   "cell_type": "markdown",
   "metadata": {},
   "source": [
    "1(b)"
   ]
  },
  {
   "cell_type": "code",
   "execution_count": 4,
   "metadata": {
    "collapsed": false
   },
   "outputs": [
    {
     "data": {
      "text/plain": [
       "[-3 - 2*I, -3 + 2*I]"
      ]
     },
     "execution_count": 4,
     "metadata": {},
     "output_type": "execute_result"
    }
   ],
   "source": [
    "eqn2 = ddy +6*dy +13*y\n",
    "soln2 = solve(eqn2, r)\n",
    "soln2"
   ]
  },
  {
   "cell_type": "code",
   "execution_count": 5,
   "metadata": {
    "collapsed": false
   },
   "outputs": [
    {
     "data": {
      "text/plain": [
       "0"
      ]
     },
     "execution_count": 5,
     "metadata": {},
     "output_type": "execute_result"
    }
   ],
   "source": [
    "y = exp(-3*x) * (cos(2*x)+sin(2*x))\n",
    "dy = diff(y,x)\n",
    "ddy = diff(dy,x)\n",
    "exp = ddy +6*dy +13*y\n",
    "exp.simplify()"
   ]
  },
  {
   "cell_type": "markdown",
   "metadata": {},
   "source": [
    "2(a)"
   ]
  },
  {
   "cell_type": "code",
   "execution_count": 6,
   "metadata": {
    "collapsed": false
   },
   "outputs": [
    {
     "data": {
      "image/png": "[encoded data removed]",
      "text/plain": [
       "<matplotlib.figure.Figure at 0x104776198>"
      ]
     },
     "metadata": {},
     "output_type": "display_data"
    }
   ],
   "source": [
    "x , y = symbols('x,y')\n",
    "graph = plot_implicit(Eq(y**2 *(y**2-4), x**2 *(x**2-5)))"
   ]
  },
  {
   "cell_type": "markdown",
   "metadata": {},
   "source": [
    "2(b)"
   ]
  },
  {
   "cell_type": "code",
   "execution_count": 7,
   "metadata": {
    "collapsed": false
   },
   "outputs": [
    {
     "data": {
      "text/plain": [
       "x*(2*x**2 - 5)/(2*y*(y**2 - 2))"
      ]
     },
     "execution_count": 7,
     "metadata": {},
     "output_type": "execute_result"
    }
   ],
   "source": [
    "dydx = idiff(y**2 *(y**2-4) - x**2 *(x**2-5), y,x)\n",
    "dydx"
   ]
  },
  {
   "cell_type": "markdown",
   "metadata": {},
   "source": [
    "2(c)"
   ]
  },
  {
   "cell_type": "code",
   "execution_count": 8,
   "metadata": {
    "collapsed": false
   },
   "outputs": [
    {
     "name": "stdout",
     "output_type": "stream",
     "text": [
      "2*y*(y**2 - 2)/(x*(2*x**2 - 5))\n",
      "sqrt(2)\n"
     ]
    },
    {
     "data": {
      "text/plain": [
       "[-2, -1, 1, 2]"
      ]
     },
     "execution_count": 8,
     "metadata": {},
     "output_type": "execute_result"
    }
   ],
   "source": [
    "dxdy = idiff(y**2 *(y**2-4) - x**2 *(x**2-5), x,y)\n",
    "print(dxdy)\n",
    "yvtan = solve(dxdy, y)\n",
    "yvtan = yvtan[2]\n",
    "print(yvtan)\n",
    "LHS = y**2 *(y**2-4)\n",
    "LHS = LHS.subs(y, yvtan)\n",
    "xcoord = solve(LHS - x**2 *(x**2-5),x )\n",
    "xcoord\n"
   ]
  },
  {
   "cell_type": "markdown",
   "metadata": {},
   "source": [
    "2(d)"
   ]
  },
  {
   "cell_type": "code",
   "execution_count": 9,
   "metadata": {
    "collapsed": false
   },
   "outputs": [
    {
     "data": {
      "image/png": "[encoded data removed]",
      "text/plain": [
       "<matplotlib.figure.Figure at 0x10e5bc0f0>"
      ]
     },
     "metadata": {},
     "output_type": "display_data"
    }
   ],
   "source": [
    "t = symbols('t')\n",
    "assymp = plot_parametric( (xcoord[0], t) , (xcoord[1], t), (xcoord[2], t), (xcoord[3], t), show=false   )\n",
    "graph.extend(assymp)\n",
    "graph.show()"
   ]
  },
  {
   "cell_type": "markdown",
   "metadata": {},
   "source": [
    "2(e)"
   ]
  },
  {
   "cell_type": "code",
   "execution_count": 10,
   "metadata": {
    "collapsed": false
   },
   "outputs": [
    {
     "name": "stdout",
     "output_type": "stream",
     "text": [
      "1.25000012500006 -1.25000012500006\n"
     ]
    }
   ],
   "source": [
    "subs1 = dydx.subs([(x,0.001), (y,0.001)])\n",
    "subs2 = dydx.subs([(x,-0.001),(y,0.001)])\n",
    "print(subs1, subs2)"
   ]
  },
  {
   "cell_type": "markdown",
   "metadata": {},
   "source": [
    "3"
   ]
  },
  {
   "cell_type": "code",
   "execution_count": 11,
   "metadata": {
    "collapsed": false
   },
   "outputs": [
    {
     "name": "stdout",
     "output_type": "stream",
     "text": [
      "2/x\n",
      "6/x\n",
      "24/x\n",
      "120/x\n",
      "720/x\n",
      "5040/x\n",
      "40320/x\n",
      "The n+1th derivative of x^n*ln(x) is n!/x\n"
     ]
    }
   ],
   "source": [
    "x , n = symbols('x , n')\n",
    "f = x**n * ln(x)\n",
    "for i in range(7):\n",
    "    g = f.subs(n,i+2)\n",
    "    h = diff(g,x,i+3)\n",
    "    print(h)\n",
    "print(\"The n+1th derivative of x^n*ln(x) is n!/x\")"
   ]
  },
  {
   "cell_type": "markdown",
   "metadata": {},
   "source": [
    "4"
   ]
  },
  {
   "cell_type": "code",
   "execution_count": 12,
   "metadata": {
    "collapsed": false
   },
   "outputs": [
    {
     "data": {
      "text/plain": [
       "x**0.75*sqrt(x**2 + 1)*(x/(x**2 + 1) - 15/(3*x + 2) + 0.75/x)/(3*x + 2)**5"
      ]
     },
     "execution_count": 12,
     "metadata": {},
     "output_type": "execute_result"
    }
   ],
   "source": [
    "x = symbols('x')\n",
    "y = x**(3/4) * sqrt(x**2+1)/ (3*x+2)**5\n",
    "logy = expand_log(log(y), force= True)\n",
    "dlogy = diff(logy,x)\n",
    "dy_log = dlogy *y\n",
    "dy_log"
   ]
  },
  {
   "cell_type": "code",
   "execution_count": 13,
   "metadata": {
    "collapsed": false
   },
   "outputs": [
    {
     "data": {
      "text/plain": [
       "0.75*x**(-0.25)*sqrt(x**2 + 1)/(3*x + 2)**5 - 15*x**0.75*sqrt(x**2 + 1)/(3*x + 2)**6 + x**1.75/((3*x + 2)**5*sqrt(x**2 + 1))"
      ]
     },
     "execution_count": 13,
     "metadata": {},
     "output_type": "execute_result"
    }
   ],
   "source": [
    "dy_direc = diff(y, x)\n",
    "dy_direc\n"
   ]
  },
  {
   "cell_type": "code",
   "execution_count": 14,
   "metadata": {
    "collapsed": false
   },
   "outputs": [
    {
     "name": "stdout",
     "output_type": "stream",
     "text": [
      "0\n",
      "Same\n"
     ]
    }
   ],
   "source": [
    "sub =  dy_log - dy_direc\n",
    "print(sub.simplify())\n",
    "print(\"Same\")"
   ]
  },
  {
   "cell_type": "code",
   "execution_count": 15,
   "metadata": {
    "collapsed": false
   },
   "outputs": [
    {
     "data": {
      "text/plain": [
       "x**0.75*(-(x**2 + 1)**0.5 + sqrt(x**2 + 1))/(3*x + 2)**5"
      ]
     },
     "execution_count": 15,
     "metadata": {},
     "output_type": "execute_result"
    }
   ],
   "source": [
    "h = (x**(3/4)*((x**2 + 1)**(1/2)))/((3*x +2)**5)\n",
    "s = y - h\n",
    "s.simplify()"
   ]
  },
  {
   "cell_type": "code",
   "execution_count": null,
   "metadata": {
    "collapsed": true
   },
   "outputs": [],
   "source": []
  }
 ],
 "metadata": {
  "kernelspec": {
   "display_name": "Python 3",
   "language": "python",
   "name": "python3"
  },
  "language_info": {
   "codemirror_mode": {
    "name": "ipython",
    "version": 3
   },
   "file_extension": ".py",
   "mimetype": "text/x-python",
   "name": "python",
   "nbconvert_exporter": "python",
   "pygments_lexer": "ipython3",
   "version": "3.6.0"
  }
 },
 "nbformat": 4,
 "nbformat_minor": 2
}
