{
 "cells": [
  {
   "cell_type": "markdown",
   "metadata": {},
   "source": [
    "## Math 151 Lab - Assignment 2 ##"
   ]
  },
  {
   "cell_type": "markdown",
   "metadata": {},
   "source": [
    "## Section 531, 532, 533 ##"
   ]
  },
  {
   "cell_type": "markdown",
   "metadata": {},
   "source": [
    "### Jingya Yan ###\n",
    "### jingya.yan@math.tamu.edu ###"
   ]
  },
  {
   "cell_type": "markdown",
   "metadata": {},
   "source": [
    "### 1. Assignment Instructions ###"
   ]
  },
  {
   "cell_type": "markdown",
   "metadata": {},
   "source": [
    "http://calclab.math.tamu.edu/Python/LabSched151.html\n",
    "\n",
    "Make sure you are using the template given in the link.\n",
    "\n",
    "(open the course schedule page and right click on the template link and select \"save as\")\n",
    "\n",
    "Each team turns in one printed file at next week's lab.\n",
    "\n",
    "If your team size drops below 3, I will try combine your team with others.\n",
    "#### Assignment will be due on Sep 16. ####"
   ]
  },
  {
   "cell_type": "markdown",
   "metadata": {},
   "source": [
    "### 2. Some Useful Commands ###"
   ]
  },
  {
   "cell_type": "code",
   "execution_count": 2,
   "metadata": {
    "collapsed": true
   },
   "outputs": [],
   "source": [
    "from sympy import *\n",
    "from sympy.plotting import (plot, plot_parametric,plot3d_parametric_surface, plot3d_parametric_line,plot3d)"
   ]
  },
  {
   "cell_type": "markdown",
   "metadata": {},
   "source": [
    "#### Define a Function ####\n",
    "\n",
    "https://docs.sympy.org/latest/tutorial/intro.html#a-more-interesting-example"
   ]
  },
  {
   "cell_type": "code",
   "execution_count": 15,
   "metadata": {
    "collapsed": false
   },
   "outputs": [
    {
     "name": "stdout",
     "output_type": "stream",
     "text": [
      "f= exp(x)/log(x)\n"
     ]
    }
   ],
   "source": [
    "x = symbols('x')    # Define a symbol as variable or you'll receive error while running\n",
    "f = exp(x)/ln(x)    # Define any function you want with x as variable\n",
    "print(\"f=\",f)"
   ]
  },
  {
   "cell_type": "markdown",
   "metadata": {},
   "source": [
    "#### Substitution ####\n",
    "\n",
    "https://docs.sympy.org/latest/tutorial/basic_operations.html#substitution"
   ]
  },
  {
   "cell_type": "code",
   "execution_count": 16,
   "metadata": {
    "collapsed": false
   },
   "outputs": [
    {
     "name": "stdout",
     "output_type": "stream",
     "text": [
      "8\n"
     ]
    }
   ],
   "source": [
    "x = symbols('x')    # Define variable\n",
    "f = x ** 3           # Define a function of x\n",
    "f_2 = f.subs(x,2)   # Find the value of f when x=2\n",
    "print(f_2)"
   ]
  },
  {
   "cell_type": "code",
   "execution_count": 17,
   "metadata": {
    "collapsed": false
   },
   "outputs": [
    {
     "name": "stdout",
     "output_type": "stream",
     "text": [
      "y**3\n"
     ]
    }
   ],
   "source": [
    "y = symbols('y')\n",
    "f_y = f.subs(x,y)   # Substitude x by y\n",
    "print(f_y)"
   ]
  },
  {
   "cell_type": "markdown",
   "metadata": {},
   "source": [
    "#### Plot and Plot_parametric ####\n",
    "\n",
    "https://docs.sympy.org/latest/modules/plotting.html#plotting-function-reference\n",
    "\n",
    "https://docs.sympy.org/0.7.5/modules/mpmath/plotting.html\n",
    "\n",
    "https://docs.sympy.org/latest/modules/plotting.html#sympy.plotting.plot.Plot.extend"
   ]
  },
  {
   "cell_type": "code",
   "execution_count": 19,
   "metadata": {
    "collapsed": false
   },
   "outputs": [
    {
     "data": {
      "image/png": "[encoded data removed]",
      "text/plain": [
       "<matplotlib.figure.Figure at 0x107718b70>"
      ]
     },
     "metadata": {},
     "output_type": "display_data"
    }
   ],
   "source": [
    "x = symbols('x')\n",
    "f = x ** 3      \n",
    "graph = plot_parametric(x,f,(x,-3,3),ylim=[-8,8])   \n",
    "# plotting a graph that x on horizontal, f on vertical, -3<x<3 and y-axis shows the value from -5 to 5"
   ]
  },
  {
   "cell_type": "code",
   "execution_count": 24,
   "metadata": {
    "collapsed": false
   },
   "outputs": [
    {
     "data": {
      "image/png": "[encoded data removed]",
      "text/plain": [
       "<matplotlib.figure.Figure at 0x1115ab5c0>"
      ]
     },
     "metadata": {},
     "output_type": "display_data"
    }
   ],
   "source": [
    "f2 = exp(x)\n",
    "graph2 = plot_parametric(x,f2,(x,-4,4),ylim=[-8,8],show=false)     # Define another graph, but not showing immediately\n",
    "graph.extend(graph2)    # Show graph2 and graph in the same picture, now graph contains two lines\n",
    "graph.show()            # Command for showing graph"
   ]
  },
  {
   "cell_type": "markdown",
   "metadata": {},
   "source": [
    "#### Solve a Function"
   ]
  },
  {
   "cell_type": "markdown",
   "metadata": {},
   "source": [
    "https://urldefense.proofpoint.com/v2/url?u=https-3A__www.scipy-2Dlectures.org_advanced_sympy.html-23equation-2Dsolving&d=DwMFaQ&c=u6LDEWzohnDQ01ySGnxMzg&r=0S5Vp3YJyAl2qMyYOYqVE-tUOvBz75Wirkf-T3iD8UU&m=Sn1qufafjrrMZlobHkjlzHZVH-H4ACHov6DUFQqKles&s=gp9SMKC6yC0FcXljMzt7Zb4AhhoW30idadCAp4PKldY&e="
   ]
  },
  {
   "cell_type": "code",
   "execution_count": 34,
   "metadata": {
    "collapsed": false
   },
   "outputs": [
    {
     "name": "stdout",
     "output_type": "stream",
     "text": [
      "The solution of f(x)=0 is  [-2, -1]\n"
     ]
    }
   ],
   "source": [
    "x = symbols('x')\n",
    "f = x ** 2 + 3*x +2\n",
    "x_soln = solve (f,x)    # solve f=0 with respect to x\n",
    "print(\"The solution of f(x)=0 is \", x_soln)   "
   ]
  },
  {
   "cell_type": "code",
   "execution_count": 33,
   "metadata": {
    "collapsed": false
   },
   "outputs": [
    {
     "name": "stdout",
     "output_type": "stream",
     "text": [
      "The solution of f(x)=a is  a**(1/3) , -a**(1/3)/2 - sqrt(3)*I*a**(1/3)/2 , -a**(1/3)/2 + sqrt(3)*I*a**(1/3)/2\n"
     ]
    }
   ],
   "source": [
    "x , a = symbols('x , a')\n",
    "f = x ** 3 \n",
    "x0 = solve(f-a, x)    # solve f-a=0 with respect to x\n",
    "print(\"The solution of f(x)=a is \", x0[0], \",\", x0[1] , \",\", x0[2])"
   ]
  },
  {
   "cell_type": "markdown",
   "metadata": {},
   "source": [
    "#### Construct a Loop ####\n",
    "\n",
    "https://docs.python.org/3/tutorial/datastructures.html#list-comprehensions"
   ]
  },
  {
   "cell_type": "code",
   "execution_count": 36,
   "metadata": {
    "collapsed": false
   },
   "outputs": [
    {
     "name": "stdout",
     "output_type": "stream",
     "text": [
      "Matrix([[0], [1], [2]])\n"
     ]
    }
   ],
   "source": [
    "y = Matrix([0,0,0])\n",
    "i=0\n",
    "for i in range(len(y)):\n",
    "    y[i] = i                    # This loop replace every element of y by 1,2,3\n",
    "print(y)\n"
   ]
  },
  {
   "cell_type": "markdown",
   "metadata": {},
   "source": [
    "#### Limits ####\n",
    "\n",
    "https://docs.sympy.org/latest/tutorial/calculus.html#limits\n"
   ]
  },
  {
   "cell_type": "code",
   "execution_count": 38,
   "metadata": {
    "collapsed": false
   },
   "outputs": [
    {
     "name": "stdout",
     "output_type": "stream",
     "text": [
      "The limit of f(x) near 2 is  4\n"
     ]
    }
   ],
   "source": [
    "x = symbols('x')\n",
    "f = (x ** 2 -4)/(x-2)\n",
    "x_2 = limit(f,x,2)        # Find the limits of f when x is approaching 2\n",
    "print(\"The limit of f(x) near 2 is \", x_2)"
   ]
  },
  {
   "cell_type": "code",
   "execution_count": null,
   "metadata": {
    "collapsed": true
   },
   "outputs": [],
   "source": []
  }
 ],
 "metadata": {
  "kernelspec": {
   "display_name": "Python 3",
   "language": "python",
   "name": "python3"
  },
  "language_info": {
   "codemirror_mode": {
    "name": "ipython",
    "version": 3
   },
   "file_extension": ".py",
   "mimetype": "text/x-python",
   "name": "python",
   "nbconvert_exporter": "python",
   "pygments_lexer": "ipython3",
   "version": "3.6.0"
  }
 },
 "nbformat": 4,
 "nbformat_minor": 2
}
